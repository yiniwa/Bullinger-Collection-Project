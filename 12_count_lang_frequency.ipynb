{
 "cells": [
  {
   "cell_type": "code",
   "execution_count": 1,
   "metadata": {},
   "outputs": [
    {
     "name": "stdout",
     "output_type": "stream",
     "text": [
      "la: Count = 44781, Percentage = 77.4664%\n",
      "de: Count = 12949, Percentage = 22.4004%\n",
      "el: Count = 76, Percentage = 0.1315%\n",
      "he: Count = 1, Percentage = 0.0017%\n"
     ]
    }
   ],
   "source": [
    "import os\n",
    "import xml.etree.ElementTree as ET\n",
    "\n",
    "\n",
    "def count_languages_in_all_folders(root_path):\n",
    "    language_counts = {}  # Dictionary to store counts of each language per file\n",
    "\n",
    "    # Walk through all directories and subdirectories\n",
    "    for dirpath, dirnames, filenames in os.walk(root_path):\n",
    "        for filename in filenames:\n",
    "            if filename.endswith('.xml'):  \n",
    "                full_path = os.path.join(dirpath, filename)\n",
    "\n",
    "                try:\n",
    "                    tree = ET.parse(full_path)  # Parse the XML file\n",
    "                    root = tree.getroot()  # Get the root element\n",
    "\n",
    "                    # Traverse through each 's' element in the XML file\n",
    "                    # Finds all 's' tags at any depth\n",
    "                    for s in root.findall(\".//s\"):\n",
    "                        lang = s.get('lang')  # Extract the 'lang' attribute\n",
    "                        if lang:\n",
    "                            if lang in language_counts:\n",
    "                                language_counts[lang] += 1\n",
    "                            else:\n",
    "                                language_counts[lang] = 1\n",
    "\n",
    "                except ET.ParseError:\n",
    "                    print(\n",
    "                        f\"Error parsing {full_path}: File may be corrupted or not well-formed XML.\")\n",
    "\n",
    "    # Sum all counts to get the total number of language occurrences\n",
    "    total_language_occurrences = sum(language_counts.values())\n",
    "\n",
    "    # Calculate and return both count and percentage of each language\n",
    "    results = {}\n",
    "    for lang, count in language_counts.items():\n",
    "        percentage = (count / total_language_occurrences *\n",
    "                      100) if total_language_occurrences > 0 else 0\n",
    "        results[lang] = {'count': count, 'percentage': percentage}\n",
    "\n",
    "    return results\n",
    "\n",
    "root_path = './all'\n",
    "language_details = count_languages_in_all_folders(root_path)\n",
    "\n",
    "# Print results\n",
    "for lang, details in language_details.items():\n",
    "    print(\n",
    "        f\"{lang}: Count = {details['count']}, Percentage = {details['percentage']:.4f}%\")"
   ]
  }
 ],
 "metadata": {
  "kernelspec": {
   "display_name": "base",
   "language": "python",
   "name": "python3"
  },
  "language_info": {
   "codemirror_mode": {
    "name": "ipython",
    "version": 3
   },
   "file_extension": ".py",
   "mimetype": "text/x-python",
   "name": "python",
   "nbconvert_exporter": "python",
   "pygments_lexer": "ipython3",
   "version": "3.9.13"
  }
 },
 "nbformat": 4,
 "nbformat_minor": 2
}
